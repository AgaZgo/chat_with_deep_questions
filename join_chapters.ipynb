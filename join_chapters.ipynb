{
 "cells": [
  {
   "cell_type": "code",
   "execution_count": 8,
   "metadata": {},
   "outputs": [],
   "source": [
    "import re\n",
    "import os\n",
    "\n",
    "\n",
    "episodes = [os.path.join('transcripts/', episode) for episode in os.listdir('transcripts/')]\n",
    "\n",
    "def get_ch_num(file_name):\n",
    "    return re.search('^([0-9]*)_(.*).txt', file_name).group(1)\n",
    "\n",
    "def get_ch_title(file_name):\n",
    "    return re.search('^([0-9]*)_(.*).txt', file_name).group(2)\n",
    "\n",
    "for episode_dir in episodes:\n",
    "    episode_title = episode_dir[len('transcripts/')+12:-len('.txt')].strip()\n",
    "\n",
    "    file_list = os.listdir(episode_dir)\n",
    "\n",
    "    ch_num2file = {\n",
    "        get_ch_num(file_name):file_name for file_name in file_list\n",
    "    }\n",
    "    ch_num2title = {\n",
    "        get_ch_num(file_name):get_ch_title(file_name) for file_name in file_list\n",
    "    }\n",
    "    nums = sorted(ch_num2file.keys())\n",
    "    episode_text = f\"Podcast name: Deep Questions with Cal Newport.\\nEpisode title: {episode_title}\\n\"\n",
    "\n",
    "    for i in nums:\n",
    "        episode_text += f\"\\n\\nChapter {i}: {ch_num2title[i]}\\n\"\n",
    "        with open(os.path.join(episode_dir, ch_num2file[i]), 'r') as f:\n",
    "            episode_text += f.read().strip()\n",
    "            \n",
    "    with open(os.path.join('data', episode_title+'.txt'), 'w+') as f:\n",
    "        f.write(episode_text)\n",
    "    "
   ]
  },
  {
   "cell_type": "code",
   "execution_count": null,
   "metadata": {},
   "outputs": [],
   "source": []
  }
 ],
 "metadata": {
  "kernelspec": {
   "display_name": "deep",
   "language": "python",
   "name": "python3"
  },
  "language_info": {
   "codemirror_mode": {
    "name": "ipython",
    "version": 3
   },
   "file_extension": ".py",
   "mimetype": "text/x-python",
   "name": "python",
   "nbconvert_exporter": "python",
   "pygments_lexer": "ipython3",
   "version": "3.9.17"
  },
  "orig_nbformat": 4
 },
 "nbformat": 4,
 "nbformat_minor": 2
}
